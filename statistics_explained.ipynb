{
 "cells": [
  {
   "cell_type": "markdown",
   "metadata": {},
   "source": [
    "# Statistics, so you can (hopefully) have fun in FML"
   ]
  },
  {
   "cell_type": "markdown",
   "metadata": {},
   "source": [
    "The goal of this document is to help you get comfortable with some of the fundamental math and statistics concepts we’ve touched on in the lectures. Understanding these will make it easier to follow along with the machine learning topics we’re covering and, hopefully, give you the tools to start seeing some cool patterns and insights hidden in the data.\n",
    "\n",
    "We'll start by covering the concepts in theory and then follow up with practical examples. This approach should help you build a strong intuition for how these ideas work in real-world data. To give you a little tease we will look at the data with statistics from the previous years for this course 🤓.\n",
    "\n",
    "\n",
    "\n",
    "*NOTE: Everything was written from the top of my head and double checked with the study materials for the statistics from the Ing. Martina Litschmannová, Ph.D. [Study materials from statistics](https://mi21.vsb.cz/sites/mi21.vsb.cz/files/unit/interaktivni_uvod_do_statistiky.pdf)*"
   ]
  },
  {
   "cell_type": "markdown",
   "metadata": {},
   "source": [
    "### For all my zoomer students"
   ]
  },
  {
   "cell_type": "markdown",
   "metadata": {},
   "source": [
    "![Haha](https://github.com/lowoncuties/VSB-FEI-Fundamentals-of-Machine-Learning-Exercises/blob/master/images/subway.gif?raw=true)"
   ]
  },
  {
   "cell_type": "markdown",
   "metadata": {},
   "source": [
    "## Math and statistics terms "
   ]
  },
  {
   "cell_type": "markdown",
   "metadata": {},
   "source": [
    "### Right, right ?"
   ]
  },
  {
   "cell_type": "markdown",
   "metadata": {},
   "source": [
    "<img src=\"https://github.com/lowoncuties/VSB-FEI-Fundamentals-of-Machine-Learning-Exercises/raw/master/images/materials_meme2.png\n",
    "\" alt=\"haha funny\" style=\"width:400px;\">\n"
   ]
  },
  {
   "cell_type": "markdown",
   "metadata": {},
   "source": [
    "### **Basic concepts**\n",
    "\n",
    "- **Minimum (Min)**: The smallest value in a dataset. It's simply the lowest observation in your data.\n",
    "  \n",
    "- **Maximum (Max)**: The largest value in a dataset. This represents the largest observed data point."
   ]
  },
  {
   "cell_type": "markdown",
   "metadata": {},
   "source": [
    "### **Mean and variance**\n",
    "\n",
    "- **Mean**: The average value of your data. It’s the sum of all values divided by the number of values.\n",
    "\n",
    "- **Variance**: measure of how spread out the data is around the mean. High variance means the data points are widely dispersed; low variance means they are close to the mean. This is best explained on the example, since its easier to understand it when you have a context. Variance is always in the form of the unit we $measure^2$.\n",
    "\n",
    "*Remember: If someone is mean it doesn't necessary mean that he is mean*"
   ]
  },
  {
   "cell_type": "markdown",
   "metadata": {},
   "source": [
    "### **Median** \n",
    "Middle value when your data is ordered from smallest to largest. If you have an odd number of data points, the median is the middle one. If you have an even number, the median is the average of the two middle values. \n",
    "\n",
    "**Interesting fact** is that the median is often a better measure of \"central tendency\" than the mean (average), especially in the presence of outliers. \n",
    "\n",
    "**Why ?**  Imagine a scenario where you’re looking at the incomes of 10 people, 9 of whom earn around 40,000, but 1 person earns 1,000,000. The mean would be heavily skewed by the millionaire, pulling the average up to a point that doesn’t represent most people's earnings. On the other hand, the median would simply be one of the 40,000 incomes, giving a much clearer picture of what the \"typical\" person in that group earns. This is why the median often gives a more realistic sense of central tendency when extreme values are present."
   ]
  },
  {
   "cell_type": "markdown",
   "metadata": {},
   "source": [
    "### **Quartiles and quantiles**\n",
    "- **Quartiles**: from the word \"Quarter\" they divide your data into four equal parts after it has been sorted in ascending order\n",
    "  - **Q1 (First Quartile)**: The value that marks the first 25% of the data. It’s the point below which 25% of the data lie.\n",
    "  - **Q2 (Second Quartile/Median)**: The middle value, splitting the data in half. 50% of the values lie below this point.\n",
    "  - **Q3 (Third Quartile)**: The value that marks the first 75% of the data, meaning 75% of the data points are below this point.\n",
    "\n",
    "- **Quantiles**: split the data into equal-sized intervals\n",
    "  - **decile**: divides the data into 10 parts. **Example** 5th decile = Median = Q2, it's basically the representation of the same \"chunk\" of data \n",
    "  - **percentile**: divides it into 100 parts. **Example** 80 percentile value below which 80% of the data points fall. If you think about it the 25 percentile = Q1\n",
    "  \n",
    "  \n"
   ]
  },
  {
   "cell_type": "markdown",
   "metadata": {},
   "source": [
    "### **Interquartile Range (IQR)**\n",
    "Difference between the third quartile (Q3) and the first quartile (Q1). It’s a measure of the middle 50% of the data\n",
    "\n",
    "**Equation:** *IQR = Q3 - Q1*\n",
    "\n",
    "**Why is it usefull ?** IQR tells us about the spread of the central part of the data, ignoring the extreme values. It’s useful because it is not affected by outliers as much as the range (Min - Max) is."
   ]
  },
  {
   "cell_type": "markdown",
   "metadata": {},
   "source": [
    "### **Outliers**\n",
    "The simplest explanation would be \"*The data you love and hate at the same time*\"\n",
    "\n",
    "Data points that are significantly different from the majority of the data. They lie outside of the expected range and can either suggest interesting insights or \"mess-up\" our results.\n",
    "\n",
    "**Equation**: Any **data point < Q1 - 1.5 * IQR** OR **data point > Q3 + 1.5 * IQR**\n",
    "\n",
    "**Example**: Imagine 10 people working a same job, 9 of whom earn around 40,000, but 1 person earns 200,000. This 1 person would probably be an outlier, this can suggest an interesting insight, and we can focus on that one person (we can maybe find out why he has that much, maybe there are some shenanigans going on, etc...everything depends on the quality and quantity of the data)\n"
   ]
  },
  {
   "cell_type": "markdown",
   "metadata": {},
   "source": [
    "<img src=\"https://github.com/lowoncuties/VSB-FEI-Fundamentals-of-Machine-Learning-Exercises/raw/master/images/materials_meme3.png\n",
    "\" alt=\"haha meme\" style=\"width:400px;\">\n"
   ]
  },
  {
   "cell_type": "markdown",
   "metadata": {},
   "source": [
    "## Standard Deviation (std)\n",
    "The standard deviation is a measure of how much individual data points in a dataset deviate (or vary) from the mean. In simpler terms, it tells you how spread out the data is. \n",
    "\n",
    "**Interesting fact** is that the **std = $\\sqrt{Variance}$**, it basically gives a \"unit\" to the variance. We can think about it as the value +- from the mean which we can interpret in the human form (**we cannot interpret Variance like this since its $unit^2$**). \n",
    "\n",
    "**Example**: We have a std of price = 3000, that means that the spread around the mean is +- 3000, if we have a better insight of the data, we can usually conclude a lot of facts based on the std, like: Market volatility, extreme weather changes, how many students studied for the test, etc. \n",
    "\n",
    "It helps in understanding the variability or consistency in the data.\n"
   ]
  },
  {
   "cell_type": "markdown",
   "metadata": {},
   "source": [
    "# Practical example"
   ]
  },
  {
   "cell_type": "markdown",
   "metadata": {},
   "source": [
    "Our focus here, will be on not only using these terms correctly but also on interpreting them in the context of real data.\n",
    "\n",
    "**My personal opinion of what data analysis is:**\n",
    "\n",
    "The data analysis is like finding a needle in a haystack, but you know exactly where the needle is. The interesting part here is a relation of the haystack to the needle.\n",
    "\n",
    "In other words, you'll either be given a specific task or you develop your own hypothesis, which you'll then test by analyzing the data. Your conclusions—whether you accept or reject the hypothesis—are fully supported and validated by the data itself.\n",
    "\n",
    "**Quick description of the data**\n",
    "\n",
    "Dataset represents the students of the FML course from the VSB-TUO from the previous years, the columns are as following:\n",
    "- **Name** - hashed name of the student \n",
    "  \n",
    "- **TasksTotal** - total points for the lecture tasks (0-20 +- some bonus points) where min. to pass this section is 10 points\n",
    "  \n",
    "- **EDA_CLU** - points for the 1st project (0 - 45) where min. to pass this section is 20 points\n",
    "  \n",
    "- **CLS** - points for the 2nd project (0 - 35) where min. to pass this section is 15 points\n",
    "  \n",
    "- **Total** - sum of the points from all sections\n",
    "  \n",
    "- **StudyGroup** - program in which students study CS - Computer Science, MAT - Applied Mathematics, CSI - Computer Systems of 21st. Century \n",
    "\n"
   ]
  },
  {
   "cell_type": "markdown",
   "metadata": {},
   "source": [
    "### Import libraries"
   ]
  },
  {
   "cell_type": "code",
   "execution_count": 1,
   "metadata": {},
   "outputs": [],
   "source": [
    "import pandas as pd # dataframes\n",
    "import numpy as np # matrices and linear algebra\n",
    "import matplotlib.pyplot as plt # plotting\n",
    "import seaborn as sns # another matplotlib interface - styled and easier to use"
   ]
  },
  {
   "cell_type": "markdown",
   "metadata": {},
   "source": [
    "### Load the data"
   ]
  },
  {
   "cell_type": "code",
   "execution_count": 7,
   "metadata": {},
   "outputs": [
    {
     "data": {
      "text/html": [
       "<div>\n",
       "<style scoped>\n",
       "    .dataframe tbody tr th:only-of-type {\n",
       "        vertical-align: middle;\n",
       "    }\n",
       "\n",
       "    .dataframe tbody tr th {\n",
       "        vertical-align: top;\n",
       "    }\n",
       "\n",
       "    .dataframe thead th {\n",
       "        text-align: right;\n",
       "    }\n",
       "</style>\n",
       "<table border=\"1\" class=\"dataframe\">\n",
       "  <thead>\n",
       "    <tr style=\"text-align: right;\">\n",
       "      <th></th>\n",
       "      <th>Name</th>\n",
       "      <th>TasksTotal</th>\n",
       "      <th>EDA_CLU</th>\n",
       "      <th>CLS</th>\n",
       "      <th>Total</th>\n",
       "      <th>StudyGroup</th>\n",
       "    </tr>\n",
       "  </thead>\n",
       "  <tbody>\n",
       "    <tr>\n",
       "      <th>0</th>\n",
       "      <td>MAT_cyeqiclpnw</td>\n",
       "      <td>27.0</td>\n",
       "      <td>41</td>\n",
       "      <td>33</td>\n",
       "      <td>101.0</td>\n",
       "      <td>MAT</td>\n",
       "    </tr>\n",
       "    <tr>\n",
       "      <th>1</th>\n",
       "      <td>CS_scmuhhxvqy</td>\n",
       "      <td>18.0</td>\n",
       "      <td>44</td>\n",
       "      <td>29</td>\n",
       "      <td>96.0</td>\n",
       "      <td>CS</td>\n",
       "    </tr>\n",
       "    <tr>\n",
       "      <th>2</th>\n",
       "      <td>CS_qslokhdhdi</td>\n",
       "      <td>14.0</td>\n",
       "      <td>40</td>\n",
       "      <td>30</td>\n",
       "      <td>89.0</td>\n",
       "      <td>CS</td>\n",
       "    </tr>\n",
       "    <tr>\n",
       "      <th>3</th>\n",
       "      <td>CS_ejcrszeret</td>\n",
       "      <td>15.5</td>\n",
       "      <td>35</td>\n",
       "      <td>31</td>\n",
       "      <td>84.5</td>\n",
       "      <td>CS</td>\n",
       "    </tr>\n",
       "    <tr>\n",
       "      <th>4</th>\n",
       "      <td>CS_lvmnniuecb</td>\n",
       "      <td>20.0</td>\n",
       "      <td>28</td>\n",
       "      <td>22</td>\n",
       "      <td>70.0</td>\n",
       "      <td>CS</td>\n",
       "    </tr>\n",
       "  </tbody>\n",
       "</table>\n",
       "</div>"
      ],
      "text/plain": [
       "             Name  TasksTotal  EDA_CLU  CLS  Total StudyGroup\n",
       "0  MAT_cyeqiclpnw        27.0       41   33  101.0        MAT\n",
       "1   CS_scmuhhxvqy        18.0       44   29   96.0         CS\n",
       "2   CS_qslokhdhdi        14.0       40   30   89.0         CS\n",
       "3   CS_ejcrszeret        15.5       35   31   84.5         CS\n",
       "4   CS_lvmnniuecb        20.0       28   22   70.0         CS"
      ]
     },
     "execution_count": 7,
     "metadata": {},
     "output_type": "execute_result"
    }
   ],
   "source": [
    "df = pd.read_csv('datasets/fml_data_complete.csv')\n",
    "df.head()"
   ]
  },
  {
   "cell_type": "markdown",
   "metadata": {},
   "source": [
    "### Look at the data types for the columns\n",
    "\n",
    "It's always good to look at the data types, so we know the kind of data we're working with"
   ]
  },
  {
   "cell_type": "code",
   "execution_count": 4,
   "metadata": {},
   "outputs": [
    {
     "data": {
      "text/plain": [
       "Name           object\n",
       "TasksTotal    float64\n",
       "EDA_CLU         int64\n",
       "CLS             int64\n",
       "Total         float64\n",
       "StudyGroup     object\n",
       "dtype: object"
      ]
     },
     "execution_count": 4,
     "metadata": {},
     "output_type": "execute_result"
    }
   ],
   "source": [
    "df.dtypes"
   ]
  },
  {
   "cell_type": "markdown",
   "metadata": {},
   "source": [
    "We can see that the majority of data is in numerical form, let's use the function **df.describe()** to get some more insight on these values"
   ]
  },
  {
   "cell_type": "code",
   "execution_count": 5,
   "metadata": {},
   "outputs": [
    {
     "data": {
      "text/html": [
       "<div>\n",
       "<style scoped>\n",
       "    .dataframe tbody tr th:only-of-type {\n",
       "        vertical-align: middle;\n",
       "    }\n",
       "\n",
       "    .dataframe tbody tr th {\n",
       "        vertical-align: top;\n",
       "    }\n",
       "\n",
       "    .dataframe thead th {\n",
       "        text-align: right;\n",
       "    }\n",
       "</style>\n",
       "<table border=\"1\" class=\"dataframe\">\n",
       "  <thead>\n",
       "    <tr style=\"text-align: right;\">\n",
       "      <th></th>\n",
       "      <th>TasksTotal</th>\n",
       "      <th>EDA_CLU</th>\n",
       "      <th>CLS</th>\n",
       "      <th>Total</th>\n",
       "    </tr>\n",
       "  </thead>\n",
       "  <tbody>\n",
       "    <tr>\n",
       "      <th>count</th>\n",
       "      <td>48.000000</td>\n",
       "      <td>48.000000</td>\n",
       "      <td>48.000000</td>\n",
       "      <td>48.000000</td>\n",
       "    </tr>\n",
       "    <tr>\n",
       "      <th>mean</th>\n",
       "      <td>16.958333</td>\n",
       "      <td>29.062500</td>\n",
       "      <td>23.479167</td>\n",
       "      <td>70.750000</td>\n",
       "    </tr>\n",
       "    <tr>\n",
       "      <th>std</th>\n",
       "      <td>5.960717</td>\n",
       "      <td>13.185108</td>\n",
       "      <td>10.687017</td>\n",
       "      <td>28.050486</td>\n",
       "    </tr>\n",
       "    <tr>\n",
       "      <th>min</th>\n",
       "      <td>0.000000</td>\n",
       "      <td>0.000000</td>\n",
       "      <td>0.000000</td>\n",
       "      <td>0.000000</td>\n",
       "    </tr>\n",
       "    <tr>\n",
       "      <th>25%</th>\n",
       "      <td>13.500000</td>\n",
       "      <td>24.500000</td>\n",
       "      <td>22.000000</td>\n",
       "      <td>64.750000</td>\n",
       "    </tr>\n",
       "    <tr>\n",
       "      <th>50%</th>\n",
       "      <td>15.750000</td>\n",
       "      <td>33.000000</td>\n",
       "      <td>27.000000</td>\n",
       "      <td>77.500000</td>\n",
       "    </tr>\n",
       "    <tr>\n",
       "      <th>75%</th>\n",
       "      <td>20.000000</td>\n",
       "      <td>40.000000</td>\n",
       "      <td>30.000000</td>\n",
       "      <td>89.500000</td>\n",
       "    </tr>\n",
       "    <tr>\n",
       "      <th>max</th>\n",
       "      <td>29.000000</td>\n",
       "      <td>45.000000</td>\n",
       "      <td>35.000000</td>\n",
       "      <td>106.000000</td>\n",
       "    </tr>\n",
       "  </tbody>\n",
       "</table>\n",
       "</div>"
      ],
      "text/plain": [
       "       TasksTotal    EDA_CLU        CLS       Total\n",
       "count   48.000000  48.000000  48.000000   48.000000\n",
       "mean    16.958333  29.062500  23.479167   70.750000\n",
       "std      5.960717  13.185108  10.687017   28.050486\n",
       "min      0.000000   0.000000   0.000000    0.000000\n",
       "25%     13.500000  24.500000  22.000000   64.750000\n",
       "50%     15.750000  33.000000  27.000000   77.500000\n",
       "75%     20.000000  40.000000  30.000000   89.500000\n",
       "max     29.000000  45.000000  35.000000  106.000000"
      ]
     },
     "execution_count": 5,
     "metadata": {},
     "output_type": "execute_result"
    }
   ],
   "source": [
    "df.describe()"
   ]
  },
  {
   "cell_type": "markdown",
   "metadata": {},
   "source": [
    "Here we can express the terms learned earlier on a real values. We know that the numbers are points given for each section.\n",
    "\n",
    "**What are some observations from the .describe()?** We can use the **TasksTotal** column for instance\n",
    "\n",
    "- The **total number** of observations is **48**\n",
    "  \n",
    "- The **mean value is almost 17**, that means that the **majority of people passed this section**, this is **further supported by the Q1(25%**), which is **13.50**, that means that the **25% of the people had the 13.5 points or less** (you need atleast 10 points to pass), we can interpret this as **more than 75% of the people passed this section.**\n",
    "  \n",
    "- The **standard deviation is \"pretty low\"** as well, we can interpret this as the **average person had 17 +- 6 points** (mean +- std), if we think about this, **the average person passed this section with ease**. If we want to make an **\"extreme conclusion\"**, we can say something like, **I think that this part can be done with almost no effort** OR **The task are so easy, the average Joe can do them**, etc.\n",
    "\n",
    "Another interesting observation is that there are both minimum and maximum values in all categories, by looking at this, and the values for Q1 and Q3 (IQR), we can almost certainly tell that there will be some outliers in all of those categories.\n",
    "\n",
    "Now we can plot this data\n"
   ]
  },
  {
   "cell_type": "code",
   "execution_count": 19,
   "metadata": {},
   "outputs": [
    {
     "data": {
      "text/plain": [
       "<Axes: ylabel='TasksTotal'>"
      ]
     },
     "execution_count": 19,
     "metadata": {},
     "output_type": "execute_result"
    },
    {
     "data": {
      "image/png": "[encoded data removed]",
      "text/plain": [
       "<Figure size 640x480 with 1 Axes>"
      ]
     },
     "metadata": {},
     "output_type": "display_data"
    }
   ],
   "source": [
    "sns.boxplot(data=df, y=\"TasksTotal\")"
   ]
  },
  {
   "cell_type": "markdown",
   "metadata": {},
   "source": [
    "We can use a barplot to visually represent the insights we've gathered from the data. Presenting the data in a graphical format makes it easier to understand patterns and trends, allowing us to process and interpret the information more quickly than by simply looking at numbers.\n",
    "\n",
    "***Insert what you see in the plot***"
   ]
  },
  {
   "cell_type": "markdown",
   "metadata": {},
   "source": [
    "### Plot more \n",
    "\n",
    "- try to plot as much data as possible without making the plot non-readable\n",
    "- Use categorical features as a **hue** to understand how data behave for each subgroup"
   ]
  },
  {
   "cell_type": "code",
   "execution_count": 18,
   "metadata": {},
   "outputs": [
    {
     "data": {
      "text/plain": [
       "<Axes: xlabel='StudyGroup', ylabel='Total'>"
      ]
     },
     "execution_count": 18,
     "metadata": {},
     "output_type": "execute_result"
    },
    {
     "data": {
      "image/png": "[encoded data removed]",
      "text/plain": [
       "<Figure size 640x480 with 1 Axes>"
      ]
     },
     "metadata": {},
     "output_type": "display_data"
    }
   ],
   "source": [
    "sns.boxplot(data=df, y=\"Total\", x=\"StudyGroup\", hue=\"StudyGroup\")"
   ]
  },
  {
   "cell_type": "markdown",
   "metadata": {},
   "source": [
    "Here we can plot the TotalPoints in relation to StudyGroup, what can we say about the data ?\n",
    "\n",
    "- The MAT students had the most points at the course, all of them was around the maximum value. What can we say about the MAT students here ?\n",
    "  \n",
    "- Some CS students failed this course, looking on the outliers, I would say that students having 0 points were not attending the lectures.\n",
    "  \n",
    "- Looking at the CSI students, they were able to accumulate far fewer points, some of them failed the course, even when they attended the lectures. I think that the course is probably hard for the CSI students.\n",
    "\n",
    "We can see some interesting insights and create hypothesis only by looking at the plot, we can further enhance this by using the numbers in the descriptions."
   ]
  },
  {
   "cell_type": "code",
   "execution_count": 20,
   "metadata": {},
   "outputs": [
    {
     "data": {
      "text/plain": [
       "<Axes: xlabel='TasksTotal', ylabel='Total'>"
      ]
     },
     "execution_count": 20,
     "metadata": {},
     "output_type": "execute_result"
    },
    {
     "data": {
      "image/png": "[encoded data removed]",
      "text/plain": [
       "<Figure size 640x480 with 1 Axes>"
      ]
     },
     "metadata": {},
     "output_type": "display_data"
    }
   ],
   "source": [
    "sns.scatterplot(data=df, x=\"TasksTotal\", y=\"Total\", hue=\"StudyGroup\")"
   ]
  },
  {
   "cell_type": "markdown",
   "metadata": {},
   "source": [
    "Interesting insights for me are the CSI students, why did someone fail the course and why they were able to accumulate far fewer points then the other study groups?\n",
    "\n",
    "- Only 3 students from the CSI are attending the course\n",
    "  \n",
    "- All the CSI students successfully passed the section for tasks from lectures, they had more points than the median (13.5 points), so this section was not an issue\n",
    "  \n",
    "- The guy who failed the course had almost maximum points"
   ]
  },
  {
   "cell_type": "markdown",
   "metadata": {},
   "source": [
    "### Plot for other sections\n",
    "Since you probably understand what is the EDA (Exploratory Data Analysis) about, I won't create descriptions for the plots below."
   ]
  },
  {
   "cell_type": "code",
   "execution_count": 21,
   "metadata": {},
   "outputs": [
    {
     "data": {
      "text/plain": [
       "<Axes: xlabel='EDA_CLU', ylabel='Total'>"
      ]
     },
     "execution_count": 21,
     "metadata": {},
     "output_type": "execute_result"
    },
    {
     "data": {
      "image/png": "[encoded data removed]",
      "text/plain": [
       "<Figure size 640x480 with 1 Axes>"
      ]
     },
     "metadata": {},
     "output_type": "display_data"
    }
   ],
   "source": [
    "sns.scatterplot(data=df, x=\"EDA_CLU\", y=\"Total\", hue=\"StudyGroup\")"
   ]
  },
  {
   "cell_type": "markdown",
   "metadata": {},
   "source": [
    "***Insert your insights***"
   ]
  },
  {
   "cell_type": "code",
   "execution_count": 22,
   "metadata": {},
   "outputs": [
    {
     "data": {
      "text/plain": [
       "<Axes: xlabel='CLS', ylabel='Total'>"
      ]
     },
     "execution_count": 22,
     "metadata": {},
     "output_type": "execute_result"
    },
    {
     "data": {
      "image/png": "[encoded data removed]",
      "text/plain": [
       "<Figure size 640x480 with 1 Axes>"
      ]
     },
     "metadata": {},
     "output_type": "display_data"
    }
   ],
   "source": [
    "sns.scatterplot(data=df, x=\"CLS\", y=\"Total\", hue=\"StudyGroup\")"
   ]
  }
 ],
 "metadata": {
  "kernelspec": {
   "display_name": "venv",
   "language": "python",
   "name": "python3"
  },
  "language_info": {
   "codemirror_mode": {
    "name": "ipython",
    "version": 3
   },
   "file_extension": ".py",
   "mimetype": "text/x-python",
   "name": "python",
   "nbconvert_exporter": "python",
   "pygments_lexer": "ipython3",
   "version": "3.12.5"
  }
 },
 "nbformat": 4,
 "nbformat_minor": 2
}
